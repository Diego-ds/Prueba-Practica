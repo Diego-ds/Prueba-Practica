{
  "nbformat": 4,
  "nbformat_minor": 0,
  "metadata": {
    "colab": {
      "provenance": [],
      "gpuType": "V100"
    },
    "kernelspec": {
      "name": "python3",
      "display_name": "Python 3"
    },
    "language_info": {
      "name": "python"
    },
    "accelerator": "GPU"
  },
  "cells": [
    {
      "cell_type": "markdown",
      "source": [
        "**Diplomacy**\n",
        "\n",
        "Modelo para predecir la intencion de un mensaje entre dos jugadores (verdad o mentira) en el juego de estrategia Diplomacy, para más informacion dirigirse a la [página web](https://sites.google.com/view/qanta/projects/diplomacy?pli=1)\n",
        "\n",
        "---\n",
        "Especificaciones: Desarrollado en el ambiente de Google Colab, usando la GPU proporcionada.\n",
        "\n",
        "Autor: Diego Garcia"
      ],
      "metadata": {
        "id": "KhoU19Z_aKuo"
      }
    },
    {
      "cell_type": "markdown",
      "source": [
        "## Datos\n"
      ],
      "metadata": {
        "id": "kXyvcTIOhPuX"
      }
    },
    {
      "cell_type": "markdown",
      "source": [
        "En primer lugar se importan las librerias necesarias."
      ],
      "metadata": {
        "id": "W6KlapULFLYz"
      }
    },
    {
      "cell_type": "code",
      "source": [
        "import json\n",
        "import pandas as pd\n",
        "import matplotlib.pyplot as plt\n",
        "import torch\n",
        "from torch.utils.data import DataLoader, TensorDataset\n",
        "from transformers import AutoTokenizer, AutoModel,get_linear_schedule_with_warmup\n",
        "import torch.optim as optim\n",
        "import torch.nn as nn\n",
        "import torch.nn.functional as F\n",
        "from sklearn.utils.class_weight import compute_class_weight\n",
        "import numpy as np\n",
        "from sklearn.metrics import confusion_matrix,ConfusionMatrixDisplay\n",
        "from sklearn.metrics import confusion_matrix, accuracy_score, f1_score\n",
        "from timeit import default_timer as timer"
      ],
      "metadata": {
        "id": "qYKe0jhcMcVt"
      },
      "execution_count": 1,
      "outputs": []
    },
    {
      "cell_type": "markdown",
      "source": [
        "Con base en el [paper](https://users.umiacs.umd.edu/~jbg/docs/2020_acl_diplomacy.pdf) identifique dos puntos principales:\n",
        "\n",
        "\n",
        "*   Es muy dificil detectar una mentira a partir del mensaje unicamente, es necesario agregar contexto de los mensajes anteriores debido a que es una conversacion\n",
        "*   El delta de poder del jugador tiene valor al momento de detectar las mentiras ya que representa un indice de la diferencia de poder de los jugadores al momento de enviar el mensaje\n",
        "\n",
        "Para tener en cuenta esto, la funcion crear_dataset toma la ruta del archivo y genera un dataset que consiste dos columnas:\n",
        "\n",
        "\n",
        "\n",
        "*   mensaje: El mensaje actual concatenado al delta de poder de los jugadores y ademas con los dos mensajes previos agregados como contexto\n",
        "*   label: Indica 1 si el mensaje tiene la intencion de ser verdad o 0 si tiene intencion de ser una mentira\n",
        "\n",
        "\n",
        "\n"
      ],
      "metadata": {
        "id": "wJ1b66ZaFRyK"
      }
    },
    {
      "cell_type": "code",
      "source": [
        "def crear_dataset(ruta_archivo):\n",
        "    messages_list = []\n",
        "    labels_list = []\n",
        "    scores_list = []\n",
        "    with open(ruta_archivo, 'r') as file:\n",
        "        for line in file:\n",
        "            data = json.loads(line)\n",
        "            for i in range(1, len(data['messages']) + 1):\n",
        "              if data['sender_labels'][i-1] != 'NOANNOTATION':\n",
        "                contexto = ' '.join(data['messages'][i-2:i-1])\n",
        "                conversacion = contexto + ' ' + data['messages'][i-1] + ' ' + str(data['game_score_delta'][i-1])\n",
        "                messages_list.append(conversacion)\n",
        "                labels_list.append(1 if data['sender_labels'][i-1] == True else 0)\n",
        "\n",
        "    return pd.DataFrame({'mensaje': messages_list, 'label': labels_list})"
      ],
      "metadata": {
        "id": "d8D82KsMM3nV"
      },
      "execution_count": 2,
      "outputs": []
    },
    {
      "cell_type": "code",
      "source": [
        "archivo_val = '/content/validation.jsonl'\n",
        "archivo_train = '/content/train.jsonl'\n",
        "archivo_test = '/content/test.jsonl'\n",
        "\n",
        "dataset_val = crear_dataset(archivo_val)\n",
        "dataset_train = crear_dataset(archivo_train)\n",
        "dataset_test = crear_dataset(archivo_test)"
      ],
      "metadata": {
        "id": "cGA0OsCxeCin"
      },
      "execution_count": 3,
      "outputs": []
    },
    {
      "cell_type": "markdown",
      "source": [
        "## Exploracion de los datos"
      ],
      "metadata": {
        "id": "5TzFp5otHbZx"
      }
    },
    {
      "cell_type": "markdown",
      "source": [
        "Nuestro dataset de entrenamiento tiene mensajes en su mayoria entre 0 y 100 palabras"
      ],
      "metadata": {
        "id": "AlRdKq7hHg_B"
      }
    },
    {
      "cell_type": "code",
      "source": [
        "plt.hist(dataset_train['mensaje'].apply(lambda x: len(str(x).split())), bins=20, alpha=0.5, label='Entrenamiento')\n",
        "plt.hist(dataset_val['mensaje'].apply(lambda x: len(str(x).split())), bins=20, alpha=0.5, label='Validacion')\n",
        "plt.hist(dataset_test['mensaje'].apply(lambda x: len(str(x).split())), bins=20, alpha=0.5, label='Testing')\n",
        "\n",
        "# Configurar etiquetas y leyenda\n",
        "plt.xlabel('Número de Palabras')\n",
        "plt.ylabel('Frecuencia')\n",
        "plt.legend(loc='upper right')\n",
        "\n",
        "# Mostrar el gráfico\n",
        "plt.show()"
      ],
      "metadata": {
        "colab": {
          "base_uri": "https://localhost:8080/",
          "height": 449
        },
        "id": "8OHFOimQZbjk",
        "outputId": "eb962580-d570-4a12-ff11-9878a713e914"
      },
      "execution_count": 4,
      "outputs": [
        {
          "output_type": "display_data",
          "data": {
            "text/plain": [
              "<Figure size 640x480 with 1 Axes>"
            ],
            "image/png": "[encoded data removed]"
          },
          "metadata": {}
        }
      ]
    },
    {
      "cell_type": "markdown",
      "source": [
        "La observacion mas importante sobre el dataset de entrenamiento, es la distribucion de las clases. Se evidencia un desbalanceo de clases donde los registros que son mentiras solo representan el 5% del dataset"
      ],
      "metadata": {
        "id": "ZzOQM94tHq4I"
      }
    },
    {
      "cell_type": "code",
      "source": [
        "fig, axs = plt.subplots(1, 3, figsize=(15, 4))\n",
        "nombres = ['Entrenamiento','Validacion','Testing']\n",
        "# Graficar la frecuencia de la variable \"label\" en cada conjunto de datos\n",
        "for i, data in enumerate([dataset_train, dataset_val, dataset_test]):\n",
        "    counts = data['label'].value_counts().sort_index()\n",
        "    axs[i].bar(counts.index.astype(str), counts.values, color=['skyblue', 'orange'])\n",
        "    axs[i].set_title(f'Dataset {nombres[i]}')\n",
        "    axs[i].set_xlabel('Label')\n",
        "    axs[i].set_ylabel('Frecuencia')\n",
        "\n",
        "    # Agregar porcentajes\n",
        "    total = sum(counts)\n",
        "    for j, count in enumerate(counts):\n",
        "        percentage = count / total * 100\n",
        "        axs[i].text(j, count, f'{percentage:.1f}%', ha='center', va='bottom' if j == 1 else 'top', color='black')\n",
        "\n",
        "# Ajustar el espaciado entre subgráficos\n",
        "plt.tight_layout()"
      ],
      "metadata": {
        "colab": {
          "base_uri": "https://localhost:8080/",
          "height": 407
        },
        "id": "9I5cpzK1eEpn",
        "outputId": "34a91c27-2d23-4e39-b22e-e4335d468a6e"
      },
      "execution_count": 5,
      "outputs": [
        {
          "output_type": "display_data",
          "data": {
            "text/plain": [
              "<Figure size 1500x400 with 3 Axes>"
            ],
            "image/png": "[encoded data removed]"
          },
          "metadata": {}
        }
      ]
    },
    {
      "cell_type": "markdown",
      "source": [
        "Para mitigar el desbalanceo, realice under-sampling de la clase mayoritaria (verdades) para tener un nuevo dataset de una distribucion aproximada de 75% - 25% entre las clases"
      ],
      "metadata": {
        "id": "-YEHOGuHH93r"
      }
    },
    {
      "cell_type": "code",
      "source": [
        "dataset_train_label_0 = dataset_train[dataset_train['label'] == 0]\n",
        "dataset_train_label_1 = dataset_train[dataset_train['label'] == 1].sample(n=1500, random_state=42)\n",
        "\n",
        "dataset_train_final = pd.concat([dataset_train_label_0, dataset_train_label_1])"
      ],
      "metadata": {
        "id": "XkVUn35AQh8H"
      },
      "execution_count": 6,
      "outputs": []
    },
    {
      "cell_type": "code",
      "source": [
        "# Mensajes del conjunto de datos\n",
        "dataset_train_final['mensaje'][:3]"
      ],
      "metadata": {
        "colab": {
          "base_uri": "https://localhost:8080/"
        },
        "id": "EyUXYfVlRddU",
        "outputId": "d5d1ed59-d50d-4e6c-fba8-dbdd0caa2406"
      },
      "execution_count": 17,
      "outputs": [
        {
          "output_type": "execute_result",
          "data": {
            "text/plain": [
              "132    You don't want us to fight, yet you betrayed b...\n",
              "135    Hmmm, should I be reading that as angry sarcas...\n",
              "139    Well, again, I like that you’re honest with me...\n",
              "Name: mensaje, dtype: object"
            ]
          },
          "metadata": {},
          "execution_count": 17
        }
      ]
    },
    {
      "cell_type": "markdown",
      "source": [
        "## Modelado"
      ],
      "metadata": {
        "id": "-NEofm8AIRA4"
      }
    },
    {
      "cell_type": "markdown",
      "source": [
        "Para el clasificador utilice el modelo pre-entrenado [RoBERTa](https://arxiv.org/abs/1907.11692), este modelo es una version optimizada de BERT que es uno de los modelos utilizados en el paper, por esta razon se utilizara en este ejercicio. Para la implementacion es importante tener en cuenta los siguientes puntos:\n",
        "\n",
        "\n",
        "\n",
        "*   El framework utilizado para la creacion, entrenamiento y prueba del modelo es [PyTorch](https://pytorch.org/)\n",
        "*   Para la descarga del modelo y tratamiento de los datos se utiliza la libreria [transformers](https://huggingface.co/docs/transformers/index) desarrollada por [HuggingFace](https://huggingface.co/)\n",
        "*   El tamaño de batch de entrenamiento es de 16\n",
        "\n",
        "\n",
        "\n"
      ],
      "metadata": {
        "id": "CgKN0YPTIqBR"
      }
    },
    {
      "cell_type": "code",
      "source": [
        "# Tokenizador\n",
        "nombre_modelo = 'roberta-base'\n",
        "tokenizer = AutoTokenizer.from_pretrained(nombre_modelo)\n",
        "\n",
        "def tokenize_data(df,batch_size=16):\n",
        "    tokenized_texts = []\n",
        "    attention_masks = []\n",
        "\n",
        "    for text in df['mensaje']:\n",
        "        # Tokenizar el mensaje\n",
        "        tokens = tokenizer.encode(str(text),truncation=True, max_length=512)\n",
        "\n",
        "        # Asegurar que la secuencia no sea más larga de 512 tokens tomando solo los últimos 512 tokens\n",
        "        if len(tokens) > 512:\n",
        "            tokens = tokens[-512:]\n",
        "\n",
        "        # Crear máscara de atención\n",
        "        attention_mask = [1] * len(tokens)\n",
        "\n",
        "        # Padding si es necesario\n",
        "        if len(tokens) < 512:\n",
        "            tokens += [0] * (512 - len(tokens))\n",
        "            attention_mask += [0] * (512 - len(attention_mask))\n",
        "\n",
        "        tokenized_texts.append(tokens)\n",
        "        attention_masks.append(attention_mask)\n",
        "\n",
        "    # Convertir a tensores de PyTorch\n",
        "    input_ids = torch.tensor(tokenized_texts)\n",
        "    attention_mask = torch.tensor(attention_masks)\n",
        "    labels = torch.tensor(df['label'].values, dtype=torch.float32)\n",
        "\n",
        "    # Creacion del dataloader para el entrenamiento, validacion y test\n",
        "    dataset = TensorDataset(input_ids, attention_mask, labels)\n",
        "    return DataLoader(dataset, batch_size=batch_size, shuffle=True)\n",
        "\n",
        "# Dataloaders del conjunto de entrenamiento y validacion\n",
        "train_dataloader = tokenize_data(dataset_train_final)\n",
        "val_dataloader = tokenize_data(dataset_val)\n"
      ],
      "metadata": {
        "id": "k1jvWgZhkhub"
      },
      "execution_count": 8,
      "outputs": []
    },
    {
      "cell_type": "code",
      "source": [
        "# Uso de GPU si es posible en el ambiente\n",
        "device = torch.device(\"cuda\" if torch.cuda.is_available() else \"cpu\")\n",
        "print(f\"Using device: {device}\")"
      ],
      "metadata": {
        "colab": {
          "base_uri": "https://localhost:8080/"
        },
        "id": "mUqxZjIspZxC",
        "outputId": "f29d22dc-e949-4176-cc2a-222de69d608f"
      },
      "execution_count": 9,
      "outputs": [
        {
          "output_type": "stream",
          "name": "stdout",
          "text": [
            "Using device: cuda\n"
          ]
        }
      ]
    },
    {
      "cell_type": "markdown",
      "source": [
        "Para la transferencia de aprendizaje del modelo pre-entrenado, se crea la siguiente clase que utiliza el modelo, agrega una capa de dropout y finalmente una capa densa con una sola unidad de procesamiento como salida. No utilizo una funcion Sigmoide como salida por que en el ciclo de entrenamiento se emplea una funcion de perdida que ya tiene implementada esta funcion.\n",
        "\n",
        "Al final se imprime la estructura del modelo utilizado en este ejercicio."
      ],
      "metadata": {
        "id": "tOfwqdlbK4n-"
      }
    },
    {
      "cell_type": "code",
      "source": [
        "class ClasificadorTransformer(nn.Module):\n",
        "    def __init__(self):\n",
        "        super(ClasificadorTransformer, self).__init__()\n",
        "        self.modelo_transformer = AutoModel.from_pretrained(nombre_modelo)\n",
        "        self.dropout = nn.Dropout(0.2)\n",
        "        self.linear = nn.Linear(768, 1)\n",
        "\n",
        "    def forward(self, input_ids, attention_mask):\n",
        "        outputs = self.modelo_transformer(input_ids=input_ids, attention_mask=attention_mask)\n",
        "        x = outputs.last_hidden_state[:, 0]\n",
        "        x = self.dropout(x)\n",
        "        x = self.linear(x)\n",
        "        return x\n",
        "\n",
        "# Crear el modelo\n",
        "model = ClasificadorTransformer()\n",
        "model.to(device)\n",
        "\n",
        "# Ver la estructura del modelo\n",
        "print(model)"
      ],
      "metadata": {
        "colab": {
          "base_uri": "https://localhost:8080/"
        },
        "id": "H_qd6iVwx0ij",
        "outputId": "9836296f-21e2-42b7-baf6-79588fca01eb"
      },
      "execution_count": 10,
      "outputs": [
        {
          "output_type": "stream",
          "name": "stderr",
          "text": [
            "Some weights of RobertaModel were not initialized from the model checkpoint at roberta-base and are newly initialized: ['roberta.pooler.dense.bias', 'roberta.pooler.dense.weight']\n",
            "You should probably TRAIN this model on a down-stream task to be able to use it for predictions and inference.\n"
          ]
        },
        {
          "output_type": "stream",
          "name": "stdout",
          "text": [
            "ClasificadorTransformer(\n",
            "  (modelo_transformer): RobertaModel(\n",
            "    (embeddings): RobertaEmbeddings(\n",
            "      (word_embeddings): Embedding(50265, 768, padding_idx=1)\n",
            "      (position_embeddings): Embedding(514, 768, padding_idx=1)\n",
            "      (token_type_embeddings): Embedding(1, 768)\n",
            "      (LayerNorm): LayerNorm((768,), eps=1e-05, elementwise_affine=True)\n",
            "      (dropout): Dropout(p=0.1, inplace=False)\n",
            "    )\n",
            "    (encoder): RobertaEncoder(\n",
            "      (layer): ModuleList(\n",
            "        (0-11): 12 x RobertaLayer(\n",
            "          (attention): RobertaAttention(\n",
            "            (self): RobertaSelfAttention(\n",
            "              (query): Linear(in_features=768, out_features=768, bias=True)\n",
            "              (key): Linear(in_features=768, out_features=768, bias=True)\n",
            "              (value): Linear(in_features=768, out_features=768, bias=True)\n",
            "              (dropout): Dropout(p=0.1, inplace=False)\n",
            "            )\n",
            "            (output): RobertaSelfOutput(\n",
            "              (dense): Linear(in_features=768, out_features=768, bias=True)\n",
            "              (LayerNorm): LayerNorm((768,), eps=1e-05, elementwise_affine=True)\n",
            "              (dropout): Dropout(p=0.1, inplace=False)\n",
            "            )\n",
            "          )\n",
            "          (intermediate): RobertaIntermediate(\n",
            "            (dense): Linear(in_features=768, out_features=3072, bias=True)\n",
            "            (intermediate_act_fn): GELUActivation()\n",
            "          )\n",
            "          (output): RobertaOutput(\n",
            "            (dense): Linear(in_features=3072, out_features=768, bias=True)\n",
            "            (LayerNorm): LayerNorm((768,), eps=1e-05, elementwise_affine=True)\n",
            "            (dropout): Dropout(p=0.1, inplace=False)\n",
            "          )\n",
            "        )\n",
            "      )\n",
            "    )\n",
            "    (pooler): RobertaPooler(\n",
            "      (dense): Linear(in_features=768, out_features=768, bias=True)\n",
            "      (activation): Tanh()\n",
            "    )\n",
            "  )\n",
            "  (dropout): Dropout(p=0.2, inplace=False)\n",
            "  (linear): Linear(in_features=768, out_features=1, bias=True)\n",
            ")\n"
          ]
        }
      ]
    },
    {
      "cell_type": "markdown",
      "source": [
        "Para el ciclo de entrenamiento se utilizan los siguientes parametros:\n",
        "\n",
        "\n",
        "\n",
        "*   Epocas: 5\n",
        "*   Learning rate: 0.00002\n",
        "*   Funcion de perdida: BCEWithLogitsLoss\n",
        "*   Metricas de evaluacion: Accuracy y F1-Score Macro utilizado en el paper\n",
        "\n"
      ],
      "metadata": {
        "id": "3dfzDo93Lq5o"
      }
    },
    {
      "cell_type": "code",
      "source": [
        "# Optimizador\n",
        "epochs = 5\n",
        "lr=0.00002\n",
        "optimizer = optim.Adam(model.parameters(), lr=lr,weight_decay=0.01)\n",
        "\n",
        "# Calculo de peso de clases para castigar mas al modelo cuando clasifica mal una mentira\n",
        "\n",
        "num_positives = dataset_train_final['label'].sum()\n",
        "num_negatives = len(dataset_train_final['label']) - num_positives\n",
        "pos_weight  = num_negatives / num_positives\n",
        "\n",
        "# Función de pérdida\n",
        "\n",
        "criterion = nn.BCEWithLogitsLoss(pos_weight = torch.tensor(pos_weight).to(device))\n",
        "\n",
        "# Ciclo de entrenamiento\n",
        "inicio = timer()\n",
        "for epoch in range(epochs):\n",
        "    model.train()\n",
        "    total_loss = 0.0\n",
        "\n",
        "    for batch in train_dataloader:\n",
        "        input_ids, attention_mask, labels = batch\n",
        "        input_ids, attention_mask, labels = input_ids.to(device), attention_mask.to(device), labels.to(device)\n",
        "\n",
        "        # Reiniciar gradientes\n",
        "        optimizer.zero_grad()\n",
        "\n",
        "        # Propagación hacia adelante\n",
        "        outputs = model(input_ids, attention_mask).to(device)\n",
        "        labels = labels.unsqueeze(1)\n",
        "        loss = criterion(outputs, labels.float())\n",
        "\n",
        "        # Propagación hacia atrás y actualización de parámetros\n",
        "        loss.backward()\n",
        "        optimizer.step()\n",
        "        total_loss += loss.item()\n",
        "\n",
        "    # Ciclo de validacion\n",
        "    predictions = []\n",
        "    actual_labels = []\n",
        "    model.eval()\n",
        "    with torch.no_grad():\n",
        "        for batch in val_dataloader:\n",
        "            input_ids, attention_mask, labels = batch\n",
        "            input_ids, attention_mask, labels = input_ids.to(device), attention_mask.to(device), labels.to(device)\n",
        "            outputs = model(input_ids, attention_mask)\n",
        "            out = (outputs>0.0).float()\n",
        "            predictions.extend(out.cpu().tolist())\n",
        "            actual_labels.extend(labels.cpu().tolist())\n",
        "    acc = accuracy_score(actual_labels, predictions)\n",
        "    f1 = f1_score(actual_labels, predictions, average='macro')\n",
        "    average_loss = total_loss / len(train_dataloader)\n",
        "    print(f'Epoch {epoch + 1}/{epochs}, Loss: {average_loss:.4f}, Accuracy Val: {acc:.4f}, F1-Macro Val: {f1:.4f}')\n",
        "final = timer()\n",
        "tiempo = final - inicio\n",
        "print(f'Tiempo de entrenamiento: {tiempo:.2f}')"
      ],
      "metadata": {
        "colab": {
          "base_uri": "https://localhost:8080/"
        },
        "id": "2NC51Wk02eQW",
        "outputId": "68059b64-7093-4677-830f-e72fdca8fe33"
      },
      "execution_count": 11,
      "outputs": [
        {
          "output_type": "stream",
          "name": "stdout",
          "text": [
            "0.394\n",
            "Epoch 1/5, Loss: 0.3924, Accuracy Val: 0.9541, F1-Macro Val: 0.4883\n",
            "Epoch 2/5, Loss: 0.3881, Accuracy Val: 0.4336, F1-Macro Val: 0.3389\n",
            "Epoch 3/5, Loss: 0.3774, Accuracy Val: 0.8814, F1-Macro Val: 0.5396\n",
            "Epoch 4/5, Loss: 0.3635, Accuracy Val: 0.5812, F1-Macro Val: 0.4209\n",
            "Epoch 5/5, Loss: 0.3544, Accuracy Val: 0.8037, F1-Macro Val: 0.5232\n",
            "Tiempo de entrenamiento: 357.75\n"
          ]
        }
      ]
    },
    {
      "cell_type": "markdown",
      "source": [
        "## Test"
      ],
      "metadata": {
        "id": "HiKVzQovMpam"
      }
    },
    {
      "cell_type": "code",
      "source": [
        "# Creacion del dataloader del conjunto de datos test\n",
        "test_dataloader = tokenize_data(dataset_test)"
      ],
      "metadata": {
        "id": "qoCF7Zad3WO9"
      },
      "execution_count": 12,
      "outputs": []
    },
    {
      "cell_type": "markdown",
      "source": [
        "En las metricas de test resultantes se pueden destacar los siguientes datos:\n",
        "\n",
        "\n",
        "*   El valor de F1-Score macro indica que el modelo esta a la par del mejor modelo propuesto en el paper, sin embargo no presenta una mejora de este.\n",
        "*   El modelo identifica exitosamente el 40% de las mentiras en el conjunto de prueba, sin embargo presenta un alto indice de falsas mentiras (verdades clasificadas erroneamente)\n",
        "\n",
        "Posibles mejoras:\n",
        "\n",
        "\n",
        "\n",
        "*   Probar otras alternativas a las planteadas en este ejercicio para el manejo de desbalanceo de clases\n",
        "*   Modificar el umbral de clasificacion del modelo para tener predicciones mas precisas\n",
        "*   Aumentar la complejidad del modelo para identificar los patrones mas complicados en los datos\n",
        "\n",
        "\n",
        "\n",
        "\n",
        "\n"
      ],
      "metadata": {
        "id": "ozcrPgYmM3Bw"
      }
    },
    {
      "cell_type": "code",
      "source": [
        "predictions = []\n",
        "actual_labels = []\n",
        "with torch.no_grad():\n",
        "    for batch in test_dataloader:\n",
        "        input_ids, attention_mask, labels = batch\n",
        "        input_ids, attention_mask, labels = input_ids.to(device), attention_mask.to(device), labels.to(device)\n",
        "        outputs = model(input_ids, attention_mask)\n",
        "        out = (outputs>0.0).float()\n",
        "        predictions.extend(out.cpu().tolist())\n",
        "        actual_labels.extend(labels.cpu().tolist())\n",
        "f1 = f1_score(actual_labels, predictions, average='macro')\n",
        "print(f'F1-Macro: {f1:.4f}')\n",
        "cm = confusion_matrix(actual_labels, predictions)\n",
        "disp = ConfusionMatrixDisplay(confusion_matrix=cm)\n",
        "disp.plot()\n",
        "plt.show()"
      ],
      "metadata": {
        "colab": {
          "base_uri": "https://localhost:8080/",
          "height": 466
        },
        "id": "d3DPP2g-ZvoJ",
        "outputId": "654e223d-9588-488d-8d7a-169100fec564"
      },
      "execution_count": 18,
      "outputs": [
        {
          "output_type": "stream",
          "name": "stdout",
          "text": [
            "F1-Macro: 0.5632\n"
          ]
        },
        {
          "output_type": "display_data",
          "data": {
            "text/plain": [
              "<Figure size 640x480 with 2 Axes>"
            ],
            "image/png": "[encoded data removed]"
          },
          "metadata": {}
        }
      ]
    },
    {
      "cell_type": "code",
      "source": [
        "torch.save(model, 'modelo_Diplomacy.pt')"
      ],
      "metadata": {
        "id": "JfymZyXwPFvr"
      },
      "execution_count": 19,
      "outputs": []
    }
  ]
}